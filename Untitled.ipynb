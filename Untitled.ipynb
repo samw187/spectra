{
 "cells": [
  {
   "cell_type": "code",
   "execution_count": 1,
   "id": "ecc89892",
   "metadata": {},
   "outputs": [],
   "source": [
    "from optparse import OptionParser\n",
    "import numpy as np\n",
    "import pandas as pd\n",
    "import requests\n",
    "from astropy.io import fits\n",
    "from astropy.table import Table\n",
    "from astropy.utils.data import download_file\n",
    "import shutil\n",
    "from typing import List, Tuple\n",
    "\n",
    "import os\n",
    "from pathlib import Path\n",
    "import time\n",
    "import sys\n",
    "import urllib\n",
    "from astroquery.sdss import SDSS\n",
    "\n",
    "\n",
    "def getimages(ra,dec,size=100,filters=\"grizy\"):\n",
    "    \n",
    "    \"\"\"Query ps1filenames.py service to get a list of images\n",
    "    \n",
    "    ra, dec = position in degrees\n",
    "    size = image size in pixels (0.25 arcsec/pixel)\n",
    "    filters = string with filters to include\n",
    "    Returns a table with the results\n",
    "    \"\"\"\n",
    "    \n",
    "    service = \"https://ps1images.stsci.edu/cgi-bin/ps1filenames.py\"\n",
    "    url = (f\"{service}?ra={ra}&dec={dec}&size={size}&format=fits\"\n",
    "           f\"&filters={filters}\")\n",
    "    loc = download_file(url, show_progress=False)\n",
    "    table = Table.read(loc, format='ascii')\n",
    "    return table\n",
    "\n",
    "\n",
    "def geturl(ra, dec, size=100, output_size=None, filters=\"grizy\", format=\"fits\", color=False):\n",
    "    \n",
    "    \"\"\"Get URL for images in the table\n",
    "    \n",
    "    ra, dec = position in degrees\n",
    "    size = extracted image size in pixels (0.25 arcsec/pixel)\n",
    "    output_size = output (display) image size in pixels (default = size).\n",
    "                  output_size has no effect for fits format images.\n",
    "    filters = string with filters to include\n",
    "    format = data format (options are \"jpg\", \"png\" or \"fits\")\n",
    "    color = if True, creates a color image (only for jpg or png format).\n",
    "            Default is return a list of URLs for single-filter grayscale images.\n",
    "    Returns a string with the URL\n",
    "    \"\"\"\n",
    "    \n",
    "    if color and format == \"fits\":\n",
    "        raise ValueError(\"color images are available only for jpg or png formats\")\n",
    "    if format not in (\"jpg\",\"png\",\"fits\"):\n",
    "        raise ValueError(\"format must be one of jpg, png, fits\")\n",
    "    table = getimages(ra,dec,size=size,filters=filters)\n",
    "    url = (\"https://ps1images.stsci.edu/cgi-bin/fitscut.cgi?\"\n",
    "           \"ra={ra}&dec={dec}&size={size}&format={format}\").format(**locals())\n",
    "    if output_size:\n",
    "        url = url + \"&output_size={}\".format(output_size)\n",
    "    # sort filters from red to blue\n",
    "    flist = [\"yzirg\".find(x) for x in table['filter']]\n",
    "    table = table[np.argsort(flist)]\n",
    "    if color:\n",
    "        if len(table) > 3:\n",
    "            # pick 3 filters\n",
    "            table = table[[0,len(table)//2,len(table)-1]]\n",
    "        for i, param in enumerate([\"red\",\"green\",\"blue\"]):\n",
    "            url = url + \"&{}={}\".format(param,table['filename'][i])\n",
    "    else:\n",
    "        urlbase = url + \"&red=\"\n",
    "        url = []\n",
    "        for filename in table['filename']:\n",
    "            url.append(urlbase+filename)\n",
    "    return url"
   ]
  },
  {
   "cell_type": "code",
   "execution_count": 9,
   "id": "4e165822",
   "metadata": {},
   "outputs": [
    {
     "name": "stdout",
     "output_type": "stream",
     "text": [
      "10.7735850723994\n",
      "13.7237718070854\n"
     ]
    }
   ],
   "source": [
    "data = np.load(\"/cosma/home/durham/dc-will10/spec64new4.npz\")\n",
    "coords = np.load(\"/cosma/home/durham/dc-will10/spectra/speccoords.npz\")\n",
    "ra = coords[\"ra\"]\n",
    "dec = coords[\"dec\"]\n",
    "print(ra[10])\n",
    "print(dec[10])\n",
    "urls = geturl(ra[10], dec[10], size=100, filters=\"grizy\", format=\"fits\")"
   ]
  },
  {
   "cell_type": "code",
   "execution_count": 8,
   "id": "6465bdc4",
   "metadata": {},
   "outputs": [
    {
     "name": "stdout",
     "output_type": "stream",
     "text": [
      "https://ps1images.stsci.edu/cgi-bin/fitscut.cgi?ra=10.7735850723994&dec=13.7237718070854&size=100&format=fits&red=/rings.v3.skycell/1593/048/rings.v3.skycell.1593.048.stk.g.unconv.fits\n"
     ]
    }
   ],
   "source": [
    "print(urls[4])"
   ]
  },
  {
   "cell_type": "code",
   "execution_count": null,
   "id": "90947622",
   "metadata": {},
   "outputs": [],
   "source": []
  }
 ],
 "metadata": {
  "kernelspec": {
   "display_name": "Python 3",
   "language": "python",
   "name": "python3"
  },
  "language_info": {
   "codemirror_mode": {
    "name": "ipython",
    "version": 3
   },
   "file_extension": ".py",
   "mimetype": "text/x-python",
   "name": "python",
   "nbconvert_exporter": "python",
   "pygments_lexer": "ipython3",
   "version": "3.6.5"
  }
 },
 "nbformat": 4,
 "nbformat_minor": 5
}
